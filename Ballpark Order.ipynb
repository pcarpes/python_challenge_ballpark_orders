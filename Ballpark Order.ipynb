{
 "cells": [
  {
   "cell_type": "code",
   "execution_count": 16,
   "id": "e5a68622",
   "metadata": {},
   "outputs": [
    {
     "name": "stdout",
     "output_type": "stream",
     "text": [
      "cheeseburger cheeseburger coke water\n",
      "31.03\n"
     ]
    }
   ],
   "source": [
    "order = input()\n",
    "order = order.casefold()\n",
    "\n",
    "order_list = order.split(' ')\n",
    "\n",
    "product_list = []\n",
    "\n",
    "for product in order_list:\n",
    "    if product == 'water':\n",
    "        product = 4\n",
    "    elif product == 'pizza' or product == 'nachos':\n",
    "        product = 6\n",
    "    elif product == 'cheeseburger':\n",
    "        product = 10\n",
    "    else:\n",
    "        product = 5\n",
    "    product_list.append(product)\n",
    "\n",
    "total_order = sum(product_list)\n",
    "\n",
    "tax = 1.07\n",
    "total_order_with_tax = total_order * tax\n",
    "print(total_order_with_tax)\n",
    "\n",
    "\n"
   ]
  },
  {
   "cell_type": "raw",
   "id": "704f9126",
   "metadata": {},
   "source": []
  },
  {
   "cell_type": "code",
   "execution_count": null,
   "id": "fa389835",
   "metadata": {},
   "outputs": [],
   "source": []
  }
 ],
 "metadata": {
  "kernelspec": {
   "display_name": "Python 3 (ipykernel)",
   "language": "python",
   "name": "python3"
  },
  "language_info": {
   "codemirror_mode": {
    "name": "ipython",
    "version": 3
   },
   "file_extension": ".py",
   "mimetype": "text/x-python",
   "name": "python",
   "nbconvert_exporter": "python",
   "pygments_lexer": "ipython3",
   "version": "3.9.12"
  }
 },
 "nbformat": 4,
 "nbformat_minor": 5
}
